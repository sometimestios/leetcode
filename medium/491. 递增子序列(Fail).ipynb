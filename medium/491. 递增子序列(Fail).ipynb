{
 "cells": [
  {
   "cell_type": "markdown",
   "metadata": {},
   "source": [
    "# Fail:不会去重\n",
    "[题目地址](https://leetcode-cn.com/problems/increasing-subsequences/)\n",
    "\n",
    "## 我的思路：\n",
    "假设元素是增序的，用分治的思想，将问题分解为：求一个数字和全部已有子序列产生的新子序列。\n",
    "## 结果：\n",
    "可以求出所有的子序列，但是**不知道怎么去重**。\n",
    "## 参考\n",
    "1. [参考解法1](https://leetcode-cn.com/problems/increasing-subsequences/solution/di-gui-gao-ding-liu-xing-dai-ma-pan-zhong-by-time-/)\n",
    "2. [参考方法2](https://leetcode-cn.com/problems/increasing-subsequences/solution/di-gui-gao-ding-liu-xing-dai-ma-pan-zhong-by-time-/)"
   ]
  },
  {
   "cell_type": "code",
   "execution_count": 27,
   "metadata": {},
   "outputs": [
    {
     "name": "stdout",
     "output_type": "stream",
     "text": [
      "[[5, 6], [4, 5], [4, 6], [4, 5, 6], [3, 4], [3, 5], [3, 6], [3, 5, 6], [3, 4], [3, 5], [3, 6], [3, 4, 5], [3, 4], [3, 5], [3, 6], [3, 4, 6], [3, 4], [3, 5], [3, 6], [3, 4, 5, 6]]\n"
     ]
    }
   ],
   "source": [
    "from typing import List\n",
    "\n",
    "number=[3,4,5,6]\n",
    "\n",
    "class Solution:\n",
    "    def findSubsequences(self, nums: List[int]) -> List[List[int]]:\n",
    "        res = []\n",
    "        if len(nums)<3:\n",
    "            res.append(nums)\n",
    "        else:\n",
    "            res.extend(self.findSubsequences(nums[1:]))\n",
    "            for i in self.findSubsequences(nums[1:]):\n",
    "                temp=nums[0:1]\n",
    "                for j in nums[1:]:\n",
    "                    res.append([nums[0],j])\n",
    "                temp.extend(i)\n",
    "                res.append(temp)\n",
    "        return res\n",
    "\n",
    "s=Solution()\n",
    "print(s.findSubsequences(number))"
   ]
  }
 ],
 "metadata": {
  "kernelspec": {
   "display_name": "Python 3",
   "language": "python",
   "name": "python3"
  },
  "language_info": {
   "codemirror_mode": {
    "name": "ipython",
    "version": 3
   },
   "file_extension": ".py",
   "mimetype": "text/x-python",
   "name": "python",
   "nbconvert_exporter": "python",
   "pygments_lexer": "ipython3",
   "version": "3.6.10"
  }
 },
 "nbformat": 4,
 "nbformat_minor": 4
}
