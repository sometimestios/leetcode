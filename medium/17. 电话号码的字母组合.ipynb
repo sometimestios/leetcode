{
 "cells": [
  {
   "cell_type": "markdown",
   "metadata": {},
   "source": [
    "# 1.我的方法-分治、递归\n",
    "由于是排列组合的题目，最简单粗暴的是遍历，但字符串的长度未知所以用递归的方法进行遍历。\n",
    "将问题分解为：\n",
    "1. 求后续n-1个字符的组合combination(n-1)\n",
    "2. 将第一个字符与combination(n-1)的结果进排列组合"
   ]
  },
  {
   "cell_type": "code",
   "execution_count": null,
   "metadata": {},
   "outputs": [],
   "source": [
    "from typing import List\n",
    "class Solution:\n",
    "    def letterCombinations(self, digits: str) -> List[str]:\n",
    "        digits_map = {'2': ['a', 'b', 'c'], '3': ['d', 'e', 'f'], '4': ['g', 'h', 'i'],\n",
    "                      '5': ['j', 'k', 'l'], '6': ['m', 'n', 'o'], '7': ['p', 'q', 'r', 's'],\n",
    "                      '8': ['t', 'u', 'v'], '9': ['w', 'x', 'y', 'z']}\n",
    "        if not digits:  # 空表情况\n",
    "            return []\n",
    "        def get_combinations(string):\n",
    "            ans = []\n",
    "            if len(string) == 1:\n",
    "                ans.extend(digits_map[string])\n",
    "                return ans\n",
    "            else:\n",
    "                for i in get_combinations(string[1:]):  # 递归点\n",
    "                    for j in digits_map[string[0]]:\n",
    "                        ans.append(j + i)\n",
    "                return ans\n",
    "        return get_combinations(digits)\n",
    "s=Solution()\n",
    "s.letterCombinations(\"234\")"
   ]
  },
  {
   "cell_type": "markdown",
   "metadata": {},
   "source": [
    "# 3经典方法-回溯\n",
    "1. 参考[回溯算法解题套路框架](https://labuladong.gitbook.io/algo/di-ling-zhang-bi-du-xi-lie/hui-su-suan-fa-xiang-jie-xiu-ding-ban)\n",
    "\n",
    "    伪代码如下：\n",
    "    ```python\n",
    "    result = []\n",
    "    def backtrack(路径, 选择列表):\n",
    "        if 满足结束条件:\n",
    "            result.add(路径)\n",
    "            return\n",
    "\n",
    "        for 选择 in 选择列表:\n",
    "            做选择(路径增加一个节点)\n",
    "            backtrack(路径, 选择列表)\n",
    "            撤销选择(路径减少一个节点)\n",
    "    ```\n",
    "2. 如下图所示，其中：\n",
    "    * 选择列表：**当前可以做出的选择**\n",
    "    * 路径：**当前已选择的节点**\n",
    "    * result：**记录所有的完全路径**\n",
    "![2](http://qn.tonysongwb.top/img/20200826125847.png)"
   ]
  },
  {
   "cell_type": "code",
   "execution_count": null,
   "metadata": {},
   "outputs": [],
   "source": [
    "from typing import List\n",
    "class Solution:\n",
    "    def letterCombinations(self, digits: str) -> List[str]:\n",
    "        digits_map = {'2': ['a', 'b', 'c'], '3': ['d', 'e', 'f'], '4': ['g', 'h', 'i'],\n",
    "                      '5': ['j', 'k', 'l'], '6': ['m', 'n', 'o'], '7': ['p', 'q', 'r', 's'],\n",
    "                      '8': ['t', 'u', 'v'], '9': ['w', 'x', 'y', 'z']}\n",
    "        def backtrack(path):\n",
    "            if len(path)==len(digits):\n",
    "                result.append(path)\n",
    "                return\n",
    "            choices=digits_map[digits[len(path)]]\n",
    "            for i in choices:\n",
    "                path+=i\n",
    "                backtrack(path)\n",
    "                path=path[:-1]\n",
    "        if not digits:\n",
    "            return []\n",
    "        result=[]\n",
    "        path=''\n",
    "        backtrack(path)\n",
    "        return result\n",
    "s=Solution()\n",
    "s.letterCombinations(\"23\")"
   ]
  },
  {
   "cell_type": "markdown",
   "metadata": {},
   "source": [
    " # 2.不错的方法-队列\n",
    "以\"23\"为例：\n",
    "    1. 由于队空，2对应的a,b,c依次入队。\n",
    "    2. 队非空，队中元素依次出队与3对应的e,f,g进行组合，将结果入队。\n",
    "重复以上步骤直到所有的数字被访问，下图为参考。\n",
    "![2](http://qn.tonysongwb.top/img/20200826112222.png)"
   ]
  },
  {
   "cell_type": "code",
   "execution_count": null,
   "metadata": {},
   "outputs": [],
   "source": [
    "from typing import List\n",
    "class Solution:\n",
    "    def letterCombinations(self, digits: str) -> List[str]:\n",
    "        digits_map = {'2': ['a', 'b', 'c'], '3': ['d', 'e', 'f'], '4': ['g', 'h', 'i'],\n",
    "                      '5': ['j', 'k', 'l'], '6': ['m', 'n', 'o'], '7': ['p', 'q', 'r', 's'],\n",
    "                      '8': ['t', 'u', 'v'], '9': ['w', 'x', 'y', 'z']}\n",
    "        queue=[]\n",
    "        for i in digits:\n",
    "            if not queue:\n",
    "                queue.extend(digits_map[i])\n",
    "            else:\n",
    "                for j in range(len(queue)):\n",
    "                    tmp=queue.pop(0)\n",
    "                    for k in digits_map[i]:\n",
    "                        queue.append(tmp+k)\n",
    "        return queue\n",
    "s=Solution()\n",
    "s.letterCombinations(\"234\")"
   ]
  }
 ],
 "metadata": {
  "kernelspec": {
   "display_name": "Python 3",
   "language": "python",
   "name": "python3"
  },
  "language_info": {
   "codemirror_mode": {
    "name": "ipython",
    "version": 3
   },
   "file_extension": ".py",
   "mimetype": "text/x-python",
   "name": "python",
   "nbconvert_exporter": "python",
   "pygments_lexer": "ipython3",
   "version": "3.6.10"
  }
 },
 "nbformat": 4,
 "nbformat_minor": 4
}
