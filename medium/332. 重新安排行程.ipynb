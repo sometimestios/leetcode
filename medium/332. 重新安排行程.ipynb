{
 "cells": [
  {
   "cell_type": "markdown",
   "metadata": {},
   "source": [
    "# 总结\n",
    "1. 对回溯还不熟练；\n",
    "2. 对这类可以立即跳出递归的题型不熟练；\n",
    "3. 学习[官方解法欧拉图](https://leetcode-cn.com/problems/reconstruct-itinerary/solution/zhong-xin-an-pai-xing-cheng-by-leetcode-solution/)和[简洁的回溯算法写法](https://leetcode-cn.com/problems/reconstruct-itinerary/solution/pythonhui-su-suan-fa-ji-bai-9523-by-yun-yi-hen/)"
   ]
  },
  {
   "cell_type": "markdown",
   "metadata": {},
   "source": [
    "## 1.失败-回溯所有情况再排序\n",
    "分支过多无法在有效时间内算出"
   ]
  },
  {
   "cell_type": "code",
   "execution_count": null,
   "metadata": {},
   "outputs": [],
   "source": [
    "tickets=[[\"MUC\", \"LHR\"], [\"JFK\", \"MUC\"], [\"SFO\", \"SJC\"], [\"LHR\", \"SFO\"]]\n",
    "from typing import List\n",
    "class Solution:\n",
    "    def findItinerary(self, tickets: List[List[str]]) -> List[str]:\n",
    "        n=len(tickets)\n",
    "        dic=dict(zip(range(n),[False for i in range(n)]))\n",
    "        def compare(r0,r1):\n",
    "            for i in range(len(r0)):\n",
    "                for j in range(3):\n",
    "                    if r0[i][j]<r1[i][j]:\n",
    "                        return r0\n",
    "                    elif r0[i][j]>r1[i][j]:\n",
    "                        return r1\n",
    "            return r0\n",
    "                    \n",
    "        def get_final(result):\n",
    "            if len(result)==1:\n",
    "                return result[0]\n",
    "            for r in result[1:]:\n",
    "                result[0]=compare(result[0],r)\n",
    "            return result[0]\n",
    "        \n",
    "        def get_choices(begin):\n",
    "            choices=[]\n",
    "            for i,ticket in enumerate(tickets):\n",
    "                if ticket[0]==begin and not dic[i]:\n",
    "                    choices.append(i)\n",
    "            return choices\n",
    "        \n",
    "        def backtrack(path,choices):\n",
    "            print('One')\n",
    "            if len(path)==len(tickets)+1:\n",
    "                result.append(path[:])\n",
    "                return\n",
    "            if not choices:\n",
    "                return\n",
    "            for i in choices:\n",
    "                port=tickets[i][1]\n",
    "                path.append(port)\n",
    "                dic[i]=True\n",
    "                backtrack(path,get_choices(begin=port))\n",
    "                path.pop()\n",
    "                dic[i]=False\n",
    "        result=[]\n",
    "        backtrack([],get_choices(begin='JFK'))\n",
    "        \n",
    "        return get_final(result)\n",
    "s=Solution()\n",
    "s.findItinerary(tickets)\n",
    "                "
   ]
  },
  {
   "cell_type": "markdown",
   "metadata": {},
   "source": [
    "## 2.我的方法-回溯+贪心\n",
    "每次都选首字母最小的节点，如果走通立即返回，走不通则回溯"
   ]
  },
  {
   "cell_type": "code",
   "execution_count": null,
   "metadata": {},
   "outputs": [],
   "source": [
    "tickets=[[\"MUC\", \"LHR\"], [\"JFK\", \"MUC\"], [\"SFO\", \"SJC\"], [\"LHR\", \"SFO\"]]\n",
    "from typing import List\n",
    "class Solution:\n",
    "    def findItinerary(self, tickets: List[List[str]]) -> List[str]:\n",
    "        n=len(tickets)\n",
    "        dic=dict(zip(range(n),[False for i in range(n)]))\n",
    "        def get_key(choice):\n",
    "            key=''\n",
    "            for i in range(3):\n",
    "                key+=str(ord(tickets[choice][1][i]))\n",
    "            return int(key)\n",
    "        def get_key2(item):\n",
    "            key=''\n",
    "            for i in range(3):\n",
    "                key+=str(ord(item[i]))\n",
    "            return int(key)\n",
    "        def get_choices(begin):\n",
    "            choices=[]\n",
    "            for i,ticket in enumerate(tickets):\n",
    "                if ticket[0]==begin and not dic[i]:\n",
    "                    choices.append(i)\n",
    "            choices=sorted(choices,key=get_key)\n",
    "            return choices\n",
    "        \n",
    "        def backtrack(path,choices):\n",
    "            \n",
    "            if len(path)==len(tickets)+1:\n",
    "                G.result=path[:]\n",
    "                return True\n",
    "            if not choices:\n",
    "                return\n",
    "            for i in choices:\n",
    "                \n",
    "                port=tickets[i][1]\n",
    "                path.append(port)\n",
    "                dic[i]=True\n",
    "                if (backtrack(path,get_choices(begin=port))):\n",
    "                    return True\n",
    "                path.pop()\n",
    "                dic[i]=False\n",
    "            \n",
    "        class G:\n",
    "            result=[]\n",
    "        backtrack(['JFK'],get_choices(begin='JFK'))\n",
    "        return G.result\n",
    "s=Solution()\n",
    "s.findItinerary(tickets)\n",
    "                "
   ]
  }
 ],
 "metadata": {
  "kernelspec": {
   "display_name": "Python 3",
   "language": "python",
   "name": "python3"
  },
  "language_info": {
   "codemirror_mode": {
    "name": "ipython",
    "version": 3
   },
   "file_extension": ".py",
   "mimetype": "text/x-python",
   "name": "python",
   "nbconvert_exporter": "python",
   "pygments_lexer": "ipython3",
   "version": "3.6.10"
  }
 },
 "nbformat": 4,
 "nbformat_minor": 4
}
