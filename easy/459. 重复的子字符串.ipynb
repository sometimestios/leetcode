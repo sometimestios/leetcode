{
 "cells": [
  {
   "cell_type": "markdown",
   "metadata": {},
   "source": [
    "# 暴力解法\n",
    "逐个对比子字符串"
   ]
  },
  {
   "cell_type": "code",
   "execution_count": null,
   "metadata": {},
   "outputs": [],
   "source": [
    "class Solution:\n",
    "    def repeatedSubstringPattern(self, s: str) -> bool:\n",
    "        for i in range(len(s)//2,0,-1):\n",
    "            if len(s)%i==0:\n",
    "                count=1\n",
    "                for j in range(1,len(s)//i+1):  # 要保证覆盖到len(s)//2\n",
    "                    if s[:i]!=s[i*j:i*(j+1)]:\n",
    "                        break\n",
    "                    count+=1\n",
    "                if count==len(s)//i:\n",
    "                    return True\n",
    "        return False\n"
   ]
  },
  {
   "cell_type": "markdown",
   "metadata": {},
   "source": [
    "# 双倍字符串解法(大佬)\n",
    "原理：如果原字符串s中存在循环节，那么将两个字符串连在一起所得到的双倍字符串ss中必然产生新的s。\n",
    "\n",
    "这种方法不用找到子串，和“回文串的逆序与原串相同”有异曲同工之处，都是利用了特殊字符串衍生出来的性质。\n",
    "\n",
    "## 当s没有循环节时：\n",
    "![1](http://qn.tonysongwb.top/img/20200824151001.png)\n",
    "## 当s有循环节时：\n",
    "![2](http://qn.tonysongwb.top/img/20200824151035.png)"
   ]
  },
  {
   "cell_type": "code",
   "execution_count": null,
   "metadata": {},
   "outputs": [],
   "source": [
    "class Solution:\n",
    "    def repeatedSubstringPattern(self, s: str) -> bool:\n",
    "        ss=s+s\n",
    "        if ss.find(s,1)!=len(s):\n",
    "            return True\n",
    "        return False\n",
    "s=Solution()\n",
    "s.repeatedSubstringPattern(\"a\")"
   ]
  }
 ],
 "metadata": {
  "kernelspec": {
   "display_name": "Python 3",
   "language": "python",
   "name": "python3"
  },
  "language_info": {
   "codemirror_mode": {
    "name": "ipython",
    "version": 3
   },
   "file_extension": ".py",
   "mimetype": "text/x-python",
   "name": "python",
   "nbconvert_exporter": "python",
   "pygments_lexer": "ipython3",
   "version": "3.6.10"
  }
 },
 "nbformat": 4,
 "nbformat_minor": 4
}
