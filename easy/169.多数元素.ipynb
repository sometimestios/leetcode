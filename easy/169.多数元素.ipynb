{
 "cells": [
  {
   "cell_type": "markdown",
   "metadata": {
    "collapsed": true,
    "pycharm": {
     "is_executing": false
    }
   },
   "source": [
    "# 题目描述\n",
    "给定一个大小为 n 的数组，找到其中的多数元素。多数元素是指在数组中出现次数大于⌊ n/2 ⌋的元素。你可以假设数组是非空的，并且给定的数组总是存在多数元素。\n",
    "[169.多数元素](https://leetcode-cn.com/problems/majority-element/)"
   ]
  },
  {
   "cell_type": "markdown",
   "metadata": {},
   "source": [
    "## 方法一：Counter函数\n",
    "用collections.Counter函数统计元素个数"
   ]
  },
  {
   "cell_type": "code",
   "execution_count": 5,
   "metadata": {},
   "outputs": [
    {
     "data": {
      "text/plain": [
       "[3, 2, 3, 1, 3]"
      ]
     },
     "execution_count": 5,
     "metadata": {},
     "output_type": "execute_result"
    }
   ],
   "source": [
    "from collections import Counter\n",
    "nums=[3,2,3,1,3]\n",
    "def get_majority(nums):\n",
    "    re=Counter(nums)\n",
    "    for i in re:\n",
    "        if re[i]>len(nums)//2:\n",
    "            return i\n",
    "get_majority(nums)"
   ]
  },
  {
   "cell_type": "markdown",
   "metadata": {},
   "source": [
    "## 方法二：暴力统计\n",
    "用字典存储每个元素的个数"
   ]
  },
  {
   "cell_type": "code",
   "execution_count": 3,
   "metadata": {},
   "outputs": [
    {
     "data": {
      "text/plain": [
       "3"
      ]
     },
     "execution_count": 3,
     "metadata": {},
     "output_type": "execute_result"
    }
   ],
   "source": [
    "nums=[3,2,3,1,3]\n",
    "dic={}\n",
    "def get_majority(nums):\n",
    "    for i in nums:\n",
    "        if i in dic:\n",
    "            dic[i]+=1\n",
    "        else:\n",
    "            dic[i]=1\n",
    "    for i in dic:\n",
    "        if dic[i]>len(nums)//2:\n",
    "            return i\n",
    "get_majority(nums)"
   ]
  },
  {
   "cell_type": "markdown",
   "metadata": {},
   "source": [
    "## 方法三：排序取中位数\n",
    "由于多数元素的数量大于n//2，所以排序之后n//2位置的元素一定是众数"
   ]
  },
  {
   "cell_type": "code",
   "execution_count": 4,
   "metadata": {},
   "outputs": [
    {
     "data": {
      "text/plain": [
       "3"
      ]
     },
     "execution_count": 4,
     "metadata": {},
     "output_type": "execute_result"
    }
   ],
   "source": [
    "nums=[3,2,3,1,3]\n",
    "def get_majority(nums):\n",
    "    nums.sort()\n",
    "    return nums[len(nums)//2]\n",
    "get_majority(nums)"
   ]
  },
  {
   "cell_type": "markdown",
   "metadata": {},
   "source": [
    "## 方法四：随机选择/概率方法（new）\n",
    "从数组中随机选元素，选出是众数的概率最大，注意每次选择之后要验证"
   ]
  },
  {
   "cell_type": "code",
   "execution_count": 6,
   "metadata": {
    "scrolled": false
   },
   "outputs": [
    {
     "data": {
      "text/plain": [
       "3"
      ]
     },
     "execution_count": 6,
     "metadata": {},
     "output_type": "execute_result"
    }
   ],
   "source": [
    "from random import choice\n",
    "nums=[3,2,3,1,3]\n",
    "def get_majority(nums):\n",
    "    while True:\n",
    "        x=choice(nums)\n",
    "        c=0\n",
    "        for i in nums:\n",
    "            if i==x:\n",
    "                c+=1\n",
    "        if c>len(nums)//2:\n",
    "            return x\n",
    "get_majority(nums)"
   ]
  },
  {
   "cell_type": "markdown",
   "metadata": {},
   "source": [
    "## 方法五：摩尔投票法（new）\n",
    "维护一个candidate和对应的conut作为票数，如果当前candidate的票数为零则替换新的candidate，由于多数元素的数量优势，使得全局情况下能选出真正的多数元素。有分治的思想"
   ]
  },
  {
   "cell_type": "code",
   "execution_count": 7,
   "metadata": {},
   "outputs": [
    {
     "data": {
      "text/plain": [
       "3"
      ]
     },
     "execution_count": 7,
     "metadata": {},
     "output_type": "execute_result"
    }
   ],
   "source": [
    "nums=[3,2,3,1,3]\n",
    "def get_majority(nums):\n",
    "    count =0\n",
    "    for i in nums:\n",
    "        if count==0:\n",
    "            candidate=i\n",
    "            count=1\n",
    "        elif i==candidate:\n",
    "            count+=1\n",
    "        else:\n",
    "            count-=1\n",
    "    return candidate\n",
    "get_majority(nums)"
   ]
  },
  {
   "cell_type": "markdown",
   "metadata": {},
   "source": [
    "## 方法五：分治"
   ]
  }
 ],
 "metadata": {
  "kernelspec": {
   "display_name": "Python 3",
   "language": "python",
   "name": "python3"
  },
  "language_info": {
   "codemirror_mode": {
    "name": "ipython",
    "version": 3
   },
   "file_extension": ".py",
   "mimetype": "text/x-python",
   "name": "python",
   "nbconvert_exporter": "python",
   "pygments_lexer": "ipython3",
   "version": "3.6.10"
  }
 },
 "nbformat": 4,
 "nbformat_minor": 1
}
