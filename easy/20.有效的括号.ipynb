{
 "cells": [
  {
   "cell_type": "markdown",
   "metadata": {
    "collapsed": true,
    "pycharm": {
     "name": "#%% md\n"
    },
    "slideshow": {
     "slide_type": "slide"
    }
   },
   "source": [
    "# 方法一：栈\n",
    "遇左括号进站，遇右括号出栈并匹配\n",
    "注意空栈情况"
   ]
  },
  {
   "cell_type": "code",
   "execution_count": 1,
   "metadata": {
    "pycharm": {
     "is_executing": false,
     "name": "#%%\n"
    },
    "slideshow": {
     "slide_type": "slide"
    }
   },
   "outputs": [
    {
     "name": "stdout",
     "output_type": "stream",
     "text": [
      "False\n"
     ]
    }
   ],
   "source": [
    "exam=\"[()}\"\n",
    "dic={']':'[',')':'(','}':'{'}\n",
    "def is_ok(s):\n",
    "    li=list(s)\n",
    "    stack=[]\n",
    "    for i in li:\n",
    "        if i in {'(','[','{'}:\n",
    "            stack.append(i)\n",
    "        elif stack and dic[i]==stack.pop():\n",
    "            pass\n",
    "        else:\n",
    "            return False\n",
    "    if not stack:\n",
    "        return True\n",
    "    else:\n",
    "        return False\n",
    "print(is_ok(exam))\n"
   ]
  },
  {
   "cell_type": "markdown",
   "metadata": {},
   "source": [
    "# 方法二：子序列匹配\n",
    "依据括号匹配的特点，由内层向外层匹配()[]{}并删除，若能清空则说明全部匹配成功"
   ]
  },
  {
   "cell_type": "code",
   "execution_count": null,
   "metadata": {
    "pycharm": {
     "name": "#%%\n"
    }
   },
   "outputs": [],
   "source": [
    "def isValid(s):\n",
    "    \"\"\"\n",
    "    :type s: str\n",
    "    :rtype: bool\n",
    "    \"\"\"\n",
    "    if not s:\n",
    "        return True\n",
    "    # 循环判断的条件是，字符串是否包含 (),[],{}\n",
    "    # 不管是单层次的()[]{}，还是嵌套的 ((([[{}]])))\n",
    "    # 如果字符串是合法的，一定会包含一个最基本的括号对 ()，[]或者{}\n",
    "    while s.find(\"()\")>-1 or s.find(\"[]\")>-1 or s.find(\"{}\")>-1:\n",
    "        # 假设输入的字符是((()))，第一次替换完字符串就变成了(())\n",
    "        # 第二次替换变成()，第三次就是\"\"\n",
    "        if s.find(\"()\")>-1:\n",
    "            s = s.replace(\"()\",\"\")\n",
    "        # 对于嵌套包含也是一样，([{}])\n",
    "        # 第一次会被替换成([])，第二次替换成()，第三次是\"\"\n",
    "        if s.find(\"[]\")>-1:\n",
    "            s = s.replace(\"[]\",\"\")\n",
    "        if s.find(\"{}\")>-1:\n",
    "            s = s.replace(\"{}\",\"\")\n",
    "    # 如果输入的字符串是合法的，经过不断替换最终就会变成\"\"\n",
    "    # 如果不合法，肯定就不为空\n",
    "    return True if not s else False\n",
    "s=\"[]{}()\"\n",
    "\n",
    "print(isValid(s))"
   ]
  }
 ],
 "metadata": {
  "kernelspec": {
   "display_name": "Python 3",
   "language": "python",
   "name": "python3"
  },
  "language_info": {
   "codemirror_mode": {
    "name": "ipython",
    "version": 3
   },
   "file_extension": ".py",
   "mimetype": "text/x-python",
   "name": "python",
   "nbconvert_exporter": "python",
   "pygments_lexer": "ipython3",
   "version": "3.6.10"
  },
  "pycharm": {
   "stem_cell": {
    "cell_type": "raw",
    "metadata": {
     "collapsed": false
    },
    "source": []
   }
  }
 },
 "nbformat": 4,
 "nbformat_minor": 1
}
