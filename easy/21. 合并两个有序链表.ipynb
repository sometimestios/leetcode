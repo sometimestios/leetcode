{
 "cells": [
  {
   "cell_type": "markdown",
   "metadata": {},
   "source": [
    "# 构造节点、链表"
   ]
  },
  {
   "cell_type": "code",
   "execution_count": null,
   "metadata": {
    "pycharm": {
     "is_executing": true
    }
   },
   "outputs": [],
   "source": [
    "class ListNode:\n",
    "    def __init__(self, val=0, next=None):\n",
    "        self.val = val\n",
    "        self.next = next\n",
    "\n",
    "    def printNode(self):\n",
    "        p = self\n",
    "        print(p.val, end=',')\n",
    "        while p.next:\n",
    "            p = p.next\n",
    "            print(p.val, end=',')\n",
    "\n",
    "\n",
    "def construct(li):\n",
    "    start_node = next_node = ListNode(li[0], None)\n",
    "    for i in range(1, len(li)):\n",
    "        next_node.next = ListNode(li[i], None)\n",
    "        next_node = next_node.next\n",
    "    return start_node\n",
    "\n",
    "l1=[1,2,4]\n",
    "l2=[1,3,4]\n",
    "l1=construct(l1)\n",
    "l2=construct(l2)"
   ]
  },
  {
   "cell_type": "markdown",
   "metadata": {},
   "source": [
    "# 迭代\n",
    "要点：\n",
    "1. 设置头结点head，将head下一个节点作为链表的头结点进行返回\n",
    "2. 设置指针p始终指向末尾节点，便于插入\n",
    "3. 考虑输入的是空表\n",
    "4. 退出循环后将剩余的非空表接在p后面"
   ]
  },
  {
   "cell_type": "code",
   "execution_count": null,
   "metadata": {},
   "outputs": [],
   "source": [
    "class Solution:\n",
    "    def mergeTwoLists(self, l1: ListNode, l2: ListNode) -> ListNode:\n",
    "        head=ListNode()\n",
    "        p=head\n",
    "        if not l1:\n",
    "            return l2\n",
    "        elif not l2:\n",
    "            return l1\n",
    "        while l1 and l2:\n",
    "            if l1.val<l2.val:\n",
    "                p.next=l1\n",
    "                l1=l1.next\n",
    "            else:\n",
    "                p.next=l2\n",
    "                l2=l2.next\n",
    "            p=p.next\n",
    "        if not l1:\n",
    "            p.next=l2\n",
    "        else:\n",
    "            p.next=l1\n",
    "        return head.next"
   ]
  },
  {
   "cell_type": "markdown",
   "metadata": {},
   "source": [
    "# 递归\n",
    "分治思想,两个链表头部值较小的一个节点与剩下元素的 merge 操作结果合并。\n",
    "![1](http://qn.tonysongwb.top/img/20200822114320.png)"
   ]
  },
  {
   "cell_type": "code",
   "execution_count": null,
   "metadata": {
    "pycharm": {
     "is_executing": false
    }
   },
   "outputs": [],
   "source": [
    "class Solution:\n",
    "    def mergeTwoLists(self, l1: ListNode, l2: ListNode) -> ListNode:\n",
    "        if not l1:\n",
    "            return l2\n",
    "        elif not l2:\n",
    "            return l1\n",
    "        else:\n",
    "            if l1.val<l2.val:\n",
    "                l1.next=self.mergeTwoLists(l1.next,l2)\n",
    "                return l1\n",
    "            else:\n",
    "                l2.next=self.mergeTwoLists(l1,l2.next)\n",
    "                return l2"
   ]
  }
 ],
 "metadata": {
  "kernelspec": {
   "display_name": "Python 3",
   "language": "python",
   "name": "python3"
  },
  "language_info": {
   "codemirror_mode": {
    "name": "ipython",
    "version": 3
   },
   "file_extension": ".py",
   "mimetype": "text/x-python",
   "name": "python",
   "nbconvert_exporter": "python",
   "pygments_lexer": "ipython3",
   "version": "3.6.10"
  }
 },
 "nbformat": 4,
 "nbformat_minor": 1
}
