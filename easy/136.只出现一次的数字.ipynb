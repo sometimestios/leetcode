{
 "cells": [
  {
   "cell_type": "markdown",
   "metadata": {},
   "source": [
    "# 方法一：哈希\n",
    "将数字的个数存放在字典中，使用了额外的空间"
   ]
  },
  {
   "cell_type": "code",
   "execution_count": 1,
   "metadata": {
    "pycharm": {
     "is_executing": false
    }
   },
   "outputs": [
    {
     "name": "stdout",
     "text": [
      "4\n"
     ],
     "output_type": "stream"
    }
   ],
   "source": [
    "nums=[4,1,2,1,2]\n",
    "def single_num(nums):\n",
    "    dic={}\n",
    "    for i in nums:\n",
    "        if i in dic:\n",
    "            dic[i]+=1\n",
    "        else:\n",
    "            dic[i]=1\n",
    "    for i in dic:\n",
    "        if dic[i]==1:\n",
    "            return i\n",
    "print(single_num(nums))"
   ]
  },
  {
   "cell_type": "markdown",
   "metadata": {},
   "source": [
    "# 方法二：数学方法\n",
    "将数字用集合去重求和再乘二，再减去原数组元素之和，得到的就是唯一的数，也使用了额外的空间"
   ]
  },
  {
   "cell_type": "code",
   "execution_count": 4,
   "metadata": {},
   "outputs": [
    {
     "name": "stdout",
     "output_type": "stream",
     "text": [
      "4\n"
     ]
    }
   ],
   "source": [
    "nums=[4,1,2,1,2]\n",
    "def single_num(nums):\n",
    "    return sum(set(nums))*2-sum(nums)\n",
    "print(single_num(nums))"
   ]
  },
  {
   "cell_type": "markdown",
   "metadata": {},
   "source": [
    "# 方法三：Counter函数\n",
    "collection包中的Counter函数可以返回数组中元素的个数(字典形式)；使用了额外的空间"
   ]
  },
  {
   "cell_type": "code",
   "execution_count": 9,
   "metadata": {},
   "outputs": [
    {
     "name": "stdout",
     "output_type": "stream",
     "text": [
      "4\n"
     ]
    }
   ],
   "source": [
    "nums=[4,1,2,1,2]\n",
    "from collections import Counter\n",
    "def single_num(nums):\n",
    "    re=Counter(nums)\n",
    "    for i in re:\n",
    "        if re[i]==1:\n",
    "            return i\n",
    "print(single_num(nums))"
   ]
  },
  {
   "cell_type": "markdown",
   "metadata": {},
   "source": [
    "# 方法四：位（异或）运算（最佳）\n",
    "1. 异或的性质 \n",
    "    * 两个数字异或的结果a^b是将 a 和 b 的二进制每一位进行运算，得出的数字。 运算的逻辑是如果同一位的数字相同则为 0，不同则为 1\n",
    "2. 异或的规律\n",
    "    * 任何数和本身异或则为0\n",
    "    * 任何数和 0 异或是本身\n",
    "3. 异或运算满足交换律，即：\n",
    "`a ^ b ^ c = a ^ c ^ b`"
   ]
  },
  {
   "cell_type": "code",
   "execution_count": 12,
   "metadata": {},
   "outputs": [
    {
     "name": "stdout",
     "output_type": "stream",
     "text": [
      "4\n",
      "4\n"
     ]
    }
   ],
   "source": [
    "nums=[4,1,2,1,2]\n",
    "def single_num(nums):\n",
    "    for i in range(1,len(nums)):\n",
    "        nums[0]=nums[0]^nums[i]\n",
    "    return nums[0]\n",
    "print(single_num(nums))\n"
   ]
  }
 ],
 "metadata": {
  "kernelspec": {
   "display_name": "Python 3",
   "language": "python",
   "name": "python3"
  },
  "language_info": {
   "codemirror_mode": {
    "name": "ipython",
    "version": 3
   },
   "file_extension": ".py",
   "mimetype": "text/x-python",
   "name": "python",
   "nbconvert_exporter": "python",
   "pygments_lexer": "ipython3",
   "version": "3.6.10"
  }
 },
 "nbformat": 4,
 "nbformat_minor": 4
}