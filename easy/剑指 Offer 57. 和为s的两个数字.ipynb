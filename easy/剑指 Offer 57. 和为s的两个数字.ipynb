{
 "cells": [
  {
   "cell_type": "markdown",
   "metadata": {},
   "source": [
    "# 暴力方法\n",
    "时间超时了，是O(n^2)的时间复杂度"
   ]
  },
  {
   "cell_type": "code",
   "execution_count": null,
   "metadata": {
    "pycharm": {
     "is_executing": false
    }
   },
   "outputs": [],
   "source": [
    "nums=[1,20,30,4]\n",
    "target=24\n",
    "def get_res(nums,target):\n",
    "    i=0\n",
    "    while i<len(nums):\n",
    "        if target-nums[0] in nums:\n",
    "            return [nums[0],target-nums[0]]\n",
    "        nums.pop(0)\n",
    "        i+=1\n",
    "get_res(nums,target)"
   ]
  },
  {
   "cell_type": "markdown",
   "metadata": {},
   "source": [
    "# 双指针\n",
    "由于是有序的，可以只遍历一次，减少时间消耗"
   ]
  },
  {
   "cell_type": "code",
   "execution_count": null,
   "metadata": {
    "pycharm": {
     "is_executing": false
    }
   },
   "outputs": [],
   "source": [
    "nums=[1,20,30,4]\n",
    "target=24\n",
    "def get_res(nums,target):\n",
    "    i=0\n",
    "    j=len(nums)-1\n",
    "    while i<=j:\n",
    "        sum=nums[i]+nums[j]\n",
    "        if sum<target:\n",
    "            i+=1\n",
    "            #print(\"<\")\n",
    "        elif sum>target:\n",
    "            j-=1\n",
    "            #print(\">\")\n",
    "        else:\n",
    "            return [nums[i],nums[j]]\n",
    "get_res(nums,target)"
   ]
  },
  {
   "cell_type": "markdown",
   "metadata": {},
   "source": [
    "# 字典\n",
    "不需要有序，用空间换时间，这个是经典的做法"
   ]
  },
  {
   "cell_type": "code",
   "execution_count": null,
   "metadata": {
    "pycharm": {
     "is_executing": false
    }
   },
   "outputs": [],
   "source": [
    "nums=[1,20,30,4]\n",
    "target=24\n",
    "def get_res(nums,target):\n",
    "    dic={}\n",
    "    for i in nums:\n",
    "        if target-i in dic:\n",
    "            return [i ,target-i]\n",
    "        else:\n",
    "            dic[i]=target-i\n",
    "get_res(nums,target)"
   ]
  }
 ],
 "metadata": {
  "kernelspec": {
   "display_name": "Python 3",
   "language": "python",
   "name": "python3"
  },
  "language_info": {
   "codemirror_mode": {
    "name": "ipython",
    "version": 3
   },
   "file_extension": ".py",
   "mimetype": "text/x-python",
   "name": "python",
   "nbconvert_exporter": "python",
   "pygments_lexer": "ipython3",
   "version": "3.6.10"
  }
 },
 "nbformat": 4,
 "nbformat_minor": 4
}
