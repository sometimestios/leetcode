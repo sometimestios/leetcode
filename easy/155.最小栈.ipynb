{
 "cells": [
  {
   "cell_type": "markdown",
   "metadata": {},
   "source": [
    "# 方法一：普通栈\n",
    "求最小值时重新选择筛选一次，**时间开销大**"
   ]
  },
  {
   "cell_type": "code",
   "execution_count": 2,
   "metadata": {
    "pycharm": {
     "is_executing": false
    }
   },
   "outputs": [],
   "source": [
    "class MinStack:\n",
    "    def __init__(self):\n",
    "        self.li=[]\n",
    "\n",
    "    def push(self,x):\n",
    "        self.li.append(x)\n",
    "    \n",
    "    def pop(self):\n",
    "        self.li.pop()\n",
    "    \n",
    "    def top(self):\n",
    "        return self.li[-1]\n",
    "    \n",
    "    def getMin(self):\n",
    "        temp=self.li[0]\n",
    "        for i in self.li:\n",
    "            if temp>i:\n",
    "                temp=i\n",
    "        return temp\n",
    "    "
   ]
  },
  {
   "cell_type": "markdown",
   "metadata": {},
   "source": [
    "# 方法二：元组栈（最佳）\n",
    "将最小值与栈顶元素组成元组存入栈中"
   ]
  },
  {
   "cell_type": "code",
   "execution_count": null,
   "metadata": {},
   "outputs": [],
   "source": [
    "class MinStack:\n",
    "    def __init__(self):\n",
    "        self.li=[]\n",
    "\n",
    "    def push(self,x):\n",
    "        if not self.li:\n",
    "            self.li.append((x,x))\n",
    "        else:\n",
    "            self.li.append((x,min(x,self.li[-1][1])))   \n",
    "    \n",
    "    def pop(self):\n",
    "        self.li.pop()\n",
    "    \n",
    "    def top(self):\n",
    "        return self.li[-1][0]\n",
    "    \n",
    "    def getMin(self):\n",
    "        return self.li[-1][1]"
   ]
  },
  {
   "cell_type": "markdown",
   "metadata": {},
   "source": [
    "# 方法三：辅助栈\n",
    "用额外的一个栈存储最小值，与方法二类似"
   ]
  },
  {
   "cell_type": "code",
   "execution_count": null,
   "metadata": {},
   "outputs": [],
   "source": [
    "class MinStack:\n",
    "    def __init__(self):\n",
    "        self.data=[]\n",
    "        self.data_min=[]\n",
    "\n",
    "    def push(self,x):\n",
    "        self.data.append(x)\n",
    "        if not self.data_min:\n",
    "            self.data_min.append(x)\n",
    "        else:\n",
    "            self.data_min.append(min(x,self.data_min[-1]))\n",
    "            \n",
    "    def pop(self):\n",
    "        self.data.pop()\n",
    "        self.data_min.pop()\n",
    "    \n",
    "    def top(self):\n",
    "        return self.data[-1]\n",
    "    \n",
    "    def getMin(self):\n",
    "        return self.data_min[-1]"
   ]
  }
 ],
 "metadata": {
  "kernelspec": {
   "display_name": "Python 3",
   "language": "python",
   "name": "python3"
  },
  "language_info": {
   "codemirror_mode": {
    "name": "ipython",
    "version": 3
   },
   "file_extension": ".py",
   "mimetype": "text/x-python",
   "name": "python",
   "nbconvert_exporter": "python",
   "pygments_lexer": "ipython3",
   "version": "3.6.10"
  },
  "pycharm": {
   "stem_cell": {
    "cell_type": "raw",
    "metadata": {
     "collapsed": false
    },
    "source": []
   }
  }
 },
 "nbformat": 4,
 "nbformat_minor": 1
}
