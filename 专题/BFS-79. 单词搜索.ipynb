{
 "cells": [
  {
   "cell_type": "markdown",
   "metadata": {},
   "source": [
    "# 79. 单词搜索(中等)-Fail\n",
    "对BFS不熟悉，写晕了"
   ]
  },
  {
   "cell_type": "code",
   "execution_count": null,
   "metadata": {},
   "outputs": [],
   "source": [
    "from typing import List\n",
    "class Solution:\n",
    "    def exist(self, board: List[List[str]], word: str) -> bool:\n",
    "        if not board:\n",
    "            return False\n",
    "        ans=False\n",
    "        def backtrack(path,choices,index):\n",
    "            if ans or not choices:\n",
    "                return\n",
    "            for c in choices:\n",
    "                path.append(c)\n",
    "                # temp=[(c[0]-1,c[1]),(c[0]+1,c[1]),(c[0],c[1]-1),(c[0],c[1]+1)]\n",
    "                temp=zip([c[0]-1,c[0]+1,c[0],c[0]],\n",
    "                         [c[1],c[1],c[1]-1,c[1]+1])\n",
    "                for i,j in temp:\n",
    "                    if 0<=i<len(board) and 0<=j<len(board[0]) and board[i][j].upper()==word[index].upper():\n",
    "                        next_step.append((i,j))\n",
    "                backtrack(path)\n",
    "                        "
   ]
  },
  {
   "cell_type": "code",
   "execution_count": 10,
   "metadata": {},
   "outputs": [
    {
     "data": {
      "text/plain": [
       "(3, 4)"
      ]
     },
     "execution_count": 10,
     "metadata": {},
     "output_type": "execute_result"
    }
   ],
   "source": [
    "from typing import List\n",
    "class Solution:\n",
    "    def exist(self, board: List[List[str]], word: str) -> bool:\n",
    "        \n",
    "        def is_same(a,b):\n",
    "            if a.upper()==b.upper:\n",
    "                return True\n",
    "            return False\n",
    "        \n",
    "        def is_accessible(i,j):\n",
    "        if 0<=i<len(board) and 0<=j<len(board[0]) and not index_used[i][j]:\n",
    "                return True\n",
    "            return False\n",
    "        \n",
    "        def get_next_step(i,j):\n",
    "            next_step=[]\n",
    "            for add in zip([-1,1,0,0],[0,0,-1,1]):\n",
    "                if is_accessible(i+add[0],j+add[1]):\n",
    "                    next_step.append(i+add[0],j+add[1])\n",
    "            return next_step\n",
    "        \n",
    "        index_used=[[False for i in range(len(board))] for j in range(len(board[0]))]\n",
    "        for i in range(len(board)):\n",
    "            for j in range(len(board[0])):\n",
    "                if is_same(board[i][j],word[0]):\n",
    "                    queue.append((i,j))\n",
    "        for w in range(1,len(word)):\n",
    "            q=0\n",
    "            while queue:\n",
    "            for q in range(len(queue)):\n",
    "                temp_pop=queue.pop(0)\n",
    "                next_step=get_next_step(temp_pop[0],temp_pop[1])\n",
    "                for n in next_step:\n",
    "                    if board[n[0]][n[1]]==\n",
    "                \n",
    "                \n",
    "                    \n",
    "            "
   ]
  },
  {
   "cell_type": "code",
   "execution_count": 11,
   "metadata": {},
   "outputs": [
    {
     "data": {
      "text/plain": [
       "(1, 2, 3, 4)"
      ]
     },
     "execution_count": 11,
     "metadata": {},
     "output_type": "execute_result"
    }
   ],
   "source": [
    "from typing import List\n",
    "class Solution:\n",
    "    def exist(self, board: List[List[str]], word: str) -> bool:"
   ]
  }
 ],
 "metadata": {
  "kernelspec": {
   "display_name": "Python 3",
   "language": "python",
   "name": "python3"
  },
  "language_info": {
   "codemirror_mode": {
    "name": "ipython",
    "version": 3
   },
   "file_extension": ".py",
   "mimetype": "text/x-python",
   "name": "python",
   "nbconvert_exporter": "python",
   "pygments_lexer": "ipython3",
   "version": "3.6.12"
  }
 },
 "nbformat": 4,
 "nbformat_minor": 4
}
