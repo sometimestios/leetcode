{
 "cells": [
  {
   "cell_type": "markdown",
   "metadata": {},
   "source": [
    "## 76. 最小覆盖子串(困难)\n",
    "经典的滑动窗口题，主要思考：\n",
    "* 字典的意义，一个表示需要的字符和对应个数，一个表示当前含有的字符和个数，光表示“是否包含”是不够的。\n",
    "* 如何维护字典和valid值，用于判断某一刻的窗口是否包含子串的全部字符。\n",
    "* 窗口的左右边界问题，这里采用左闭右开，全程要一致。\n",
    "* 窗口缩小直到“不包含”，因此先判断是否符合要求再收缩。\n",
    "### 参考资料\n",
    "[我写了套框架，把滑动窗口算法变成了默写题](https://mp.weixin.qq.com/s?__biz=MzAxODQxMDM0Mw==&mid=2247485141&idx=1&sn=0e4583ad935e76e9a3f6793792e60734&chksm=9bd7f8ddaca071cbb7570b2433290e5e2628d20473022a5517271de6d6e50783961bebc3dd3b&mpshare=1&scene=1&srcid=0914JYFZWeMAf05MVaz6Q6NE&sharer_sharetime=1600052623503&sharer_shareid=7b8826d71e96f09c3c11a4b528d20875&key=9d3ca08bb5be9f04401eae6cec519d8823679bc7dbce60e857bcca5745b885ed651a7d96163d1539f7bd63364f7e6629987771ca9c370fd131fb61703897ef5d5c9db44d47b61590bae03c5c20e9a4d6377a443b9aeae92870e9101d095ae8f186a704383a9f87112bcd189f54cbdbcef01bcb7ae1acae78704aa898cc68c500&ascene=1&uin=MjcxMjk5NDQxOQ%3D%3D&devicetype=Windows+10&version=62070158&lang=zh_CN&exportkey=ASgfCDsibRXlbg%2Bg4a0gisM%3D&pass_ticket=4vfG1XgHki%2BIUWLTV8Hz%2FXVSv7K6P4cQQl2LOnPXaE5K6tuhN4qeg7iWaE0AT0mC&wx_header=0)\n",
    "![](http://qn.tonysongwb.top/img/20200914174126.png)\n"
   ]
  },
  {
   "cell_type": "code",
   "execution_count": 44,
   "metadata": {
    "scrolled": false
   },
   "outputs": [
    {
     "data": {
      "text/plain": [
       "'BANC'"
      ]
     },
     "execution_count": 44,
     "metadata": {},
     "output_type": "execute_result"
    }
   ],
   "source": [
    "class Solution:\n",
    "    def minWindow(self, s: str, t: str) -> str:\n",
    "        need={}  # 需要的字符个数\n",
    "        window={}  # 窗口包含的字符个数\n",
    "        # 字典初始化\n",
    "        for i in t:\n",
    "            window[i]=0\n",
    "            if i in need:\n",
    "                need[i]+=1\n",
    "            else:\n",
    "                need[i]=1\n",
    "        # left，right作为滑动窗口的边界\n",
    "        # start记录最小子串的起点，min_len记录最小窗口的长度\n",
    "        # valid记录达成“要求”的字符个数，当valid等于len(need)时，表示窗口中包含了所有子串的字符，且数量与子串中一致\n",
    "        left=right=start=0\n",
    "        valid=0\n",
    "        min_len=len(s)+1  # min_len取一个不可能的值，后续根据这个值判断是否更新过\n",
    "        while right<len(s):\n",
    "            cin=s[right]  # 增加cin字符\n",
    "            right+=1\n",
    "            if cin in need:\n",
    "                window[cin]+=1  # 若增加的字符是需要的字符，则相应字符的字典值加一\n",
    "                if window[cin]==need[cin]:\n",
    "                    valid+=1  # 若此时该字符的数量达到了要求的数量，则valid加一\n",
    "            \n",
    "            while valid==len(need):  # 当所有子串的字符都被包括，窗口开始收缩\n",
    "                if right-left<min_len:  # 若此时窗口值更小，更新之\n",
    "                    min_len=right-left\n",
    "                    start=left\n",
    "                cout=s[left]  # 抛弃cout元素\n",
    "                left+=1\n",
    "                if cout in need:  # 如果被抛弃的字符是需要的，则相应的字典值减一\n",
    "                    if window[cout]==need[cout]:  # 如果窗口中这个字符的数量刚好等于需要的数量，说明抛弃这个字符会导致窗口不符合“要求”\n",
    "                        valid-=1  # 导致窗口停止收缩\n",
    "                    window[cout]-=1  # 对应的窗口字典值减一，注意在valid判断之后再减\n",
    "        if min_len<len(s)+1:  # 如果min_len被更新过，说明包含子串，反之则不包含\n",
    "            return s[start:start+min_len]\n",
    "        else:\n",
    "            return ''\n",
    "            \n",
    "s=\"ADOBECODEBANC\"\n",
    "t=\"ABC\"\n",
    "so=Solution()\n",
    "so.minWindow(s,t)"
   ]
  },
  {
   "cell_type": "markdown",
   "metadata": {},
   "source": [
    "## 567. 字符串的排列(中等)-Fail\n",
    "和76题一样，不过加上了子串长度是固定的这一条件\n",
    "只需要修改收缩的条件为：窗口大于等于子串长度；以及在收缩前判断此时的窗口是否符合要求\n",
    "![](http://qn.tonysongwb.top/img/20200914174051.png)\n"
   ]
  },
  {
   "cell_type": "code",
   "execution_count": 73,
   "metadata": {},
   "outputs": [
    {
     "name": "stdout",
     "output_type": "stream",
     "text": [
      "{'c': 1, 'd': 1, 'a': 1, 'b': 1}\n"
     ]
    },
    {
     "data": {
      "text/plain": [
       "True"
      ]
     },
     "execution_count": 73,
     "metadata": {},
     "output_type": "execute_result"
    }
   ],
   "source": [
    "class Solution:\n",
    "    def checkInclusion(self, s1: str, s2: str) -> bool:\n",
    "        need={}\n",
    "        window={}\n",
    "        for i in s1:\n",
    "            window[i]=0\n",
    "            if i in need:\n",
    "                need[i]+=1\n",
    "            else:\n",
    "                need[i]=1\n",
    "        print(need)\n",
    "        left=right=0\n",
    "        valid=0\n",
    "        while right<len(s2):\n",
    "            cin=s2[right]\n",
    "            right+=1\n",
    "            if cin in need:\n",
    "                window[cin]+=1\n",
    "                if window[cin]==need[cin]:\n",
    "                    valid+=1\n",
    "            \n",
    "            while right-left>=len(s1):\n",
    "                if valid==len(need):\n",
    "                    return True\n",
    "                cout=s2[left]  \n",
    "                left+=1\n",
    "                if cout in need: \n",
    "                    if window[cout]==need[cout]:\n",
    "                        valid-=1\n",
    "                    window[cout]-=1\n",
    "        return False\n",
    "            \n",
    "s1=\"cdab\"\n",
    "s2=\"adcdab\"\n",
    "so=Solution()\n",
    "so.checkInclusion(s1,s2)\n",
    "\n",
    "\n",
    "# s1=\"cdab\"\n",
    "# s2=\"adcdab\""
   ]
  }
 ],
 "metadata": {
  "kernelspec": {
   "display_name": "Python 3",
   "language": "python",
   "name": "python3"
  },
  "language_info": {
   "codemirror_mode": {
    "name": "ipython",
    "version": 3
   },
   "file_extension": ".py",
   "mimetype": "text/x-python",
   "name": "python",
   "nbconvert_exporter": "python",
   "pygments_lexer": "ipython3",
   "version": "3.6.12"
  }
 },
 "nbformat": 4,
 "nbformat_minor": 4
}
