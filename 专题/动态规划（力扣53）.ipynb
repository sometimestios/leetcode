{
 "cells": [
  {
   "cell_type": "markdown",
   "metadata": {},
   "source": [
    "# 动态规划\n",
    "* 参考：[labulangdong动态规划解题套路框架](https://labuladong.gitbook.io/algo/di-ling-zhang-bi-du-xi-lie/dong-tai-gui-hua-xiang-jie-jin-jie)"
   ]
  },
  {
   "cell_type": "markdown",
   "metadata": {},
   "source": [
    "## 198. 打家劫舍(简单，经典问题)\n",
    "动态规划的四个步骤：\n",
    "* 思考子问题（本题从k个房间中能偷出的最大金额，k<=n）\n",
    "* 状态转移关系即递推式，注意是**自底向上也就是n+1与n的关系**（本题n+1与n和n-1的值有关）\n",
    "* 初始条件，一般要单独拎出来\n",
    "* 空间优化，一开始考虑问题时可以用状态数组，后面再思考能不能只用变量保存必要的数据。\n",
    "![](http://qn.tonysongwb.top/img/20200917140648.png)"
   ]
  },
  {
   "cell_type": "code",
   "execution_count": null,
   "metadata": {},
   "outputs": [],
   "source": [
    "class Solution:\n",
    "    def rob(self, nums: List[int]) -> int:\n",
    "        n=len(nums)\n",
    "        if n==0:\n",
    "            return 0\n",
    "        elif n==1:\n",
    "            return nums[0]\n",
    "        elif n==2:\n",
    "            return max(nums[0],nums[1])\n",
    "            \n",
    "        max_here=[0 for _ in range(n)]\n",
    "        # 两个暂存变量存储n-1与n-2时的最大金额\n",
    "        temp_a=nums[0]\n",
    "        temp_b=max(nums[0],nums[1])\n",
    "        for i in range(2,n):\n",
    "            # 核心递推式\n",
    "            temp_a,temp_b=temp_b,max(temp_b,temp_a+nums[i])\n",
    "        return temp_b"
   ]
  },
  {
   "cell_type": "markdown",
   "metadata": {},
   "source": [
    "## 53. 最大子序和（简单）\n",
    "[题目链接](https://leetcode-cn.com/problems/maximum-subarray/)\n",
    "关键在于遍历子序列的方式，动态规划通常逐步遍历**以某元素为末尾的子序列**\n",
    "![1](http://qn.tonysongwb.top/img/20200907142353.png)\n",
    "参考：[详细解读动态规划的实现, 易理解](https://leetcode-cn.com/problems/maximum-subarray/solution/xiang-xi-jie-du-dong-tai-gui-hua-de-shi-xian-yi-li/)"
   ]
  },
  {
   "cell_type": "code",
   "execution_count": 1,
   "metadata": {},
   "outputs": [
    {
     "data": {
      "text/plain": [
       "6"
      ]
     },
     "execution_count": 1,
     "metadata": {},
     "output_type": "execute_result"
    }
   ],
   "source": [
    "from typing import List\n",
    "class Solution:\n",
    "    def maxSubArray(self, nums: List[int]) -> int:\n",
    "        if not nums:\n",
    "            return 0\n",
    "        max_ending_here=[nums[0]]\n",
    "        max_temp=nums[0]\n",
    "        for i in range(1,len(nums)):\n",
    "            max_ending_here.append(max(max_ending_here[-1]+nums[i],nums[i]))\n",
    "            max_temp=max(max_temp,max_ending_here[-1])\n",
    "        return max_temp\n",
    "nums=[-2,1,-3,4,-1,2,1,-5,4]\n",
    "s=Solution()\n",
    "s.maxSubArray(nums)"
   ]
  },
  {
   "cell_type": "markdown",
   "metadata": {},
   "source": [
    "## 121. 买卖股票的最佳时机（简单）\n",
    "[题目链接](https://leetcode-cn.com/problems/best-time-to-buy-and-sell-stock/)\n",
    "\n",
    "本题与上一题一样，基于子序的遍历，思考状态转移的过程（在第i天卖出的最大利润与第i-1天卖出的最大利润之间的关系）"
   ]
  },
  {
   "cell_type": "code",
   "execution_count": 7,
   "metadata": {},
   "outputs": [
    {
     "data": {
      "text/plain": [
       "5"
      ]
     },
     "execution_count": 7,
     "metadata": {},
     "output_type": "execute_result"
    }
   ],
   "source": [
    "from typing import List\n",
    "class Solution:\n",
    "    def maxProfit(self, prices: List[int]) -> int:\n",
    "        if not prices:\n",
    "            return 0\n",
    "        max_profit_here=[0]\n",
    "        max_profit_temp=0\n",
    "        for i in range(1,len(prices)):\n",
    "            max_profit_here.append(max(max_profit_here[i-1]-prices[i-1]+prices[i],0))\n",
    "            max_profit_temp=max(max_profit_temp,max_profit_here[i])\n",
    "        return max_profit_temp\n",
    "nums=[7,1,5,3,6,4]\n",
    "s=Solution()\n",
    "s.maxProfit(nums)"
   ]
  }
 ],
 "metadata": {
  "kernelspec": {
   "display_name": "Python 3",
   "language": "python",
   "name": "python3"
  },
  "language_info": {
   "codemirror_mode": {
    "name": "ipython",
    "version": 3
   },
   "file_extension": ".py",
   "mimetype": "text/x-python",
   "name": "python",
   "nbconvert_exporter": "python",
   "pygments_lexer": "ipython3",
   "version": "3.6.12"
  }
 },
 "nbformat": 4,
 "nbformat_minor": 4
}
