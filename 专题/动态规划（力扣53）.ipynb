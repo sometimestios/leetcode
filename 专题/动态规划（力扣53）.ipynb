{
 "cells": [
  {
   "cell_type": "markdown",
   "metadata": {},
   "source": [
    "# 动态规划\n",
    "* 参考：[labulangdong动态规划解题套路框架](https://labuladong.gitbook.io/algo/di-ling-zhang-bi-du-xi-lie/dong-tai-gui-hua-xiang-jie-jin-jie)"
   ]
  },
  {
   "attachments": {},
   "cell_type": "markdown",
   "metadata": {},
   "source": [
    "## 53. 最大子序和（简单）\n",
    "[题目链接](https://leetcode-cn.com/problems/maximum-subarray/)\n",
    "关键在于遍历子序列的方式，动态规划通常逐步遍历**以某元素为末尾的子序列**\n",
    "![1](http://qn.tonysongwb.top/img/20200907142353.png)\n",
    "参考：[详细解读动态规划的实现, 易理解](https://leetcode-cn.com/problems/maximum-subarray/solution/xiang-xi-jie-du-dong-tai-gui-hua-de-shi-xian-yi-li/)"
   ]
  },
  {
   "cell_type": "code",
   "execution_count": 1,
   "metadata": {},
   "outputs": [
    {
     "data": {
      "text/plain": [
       "6"
      ]
     },
     "execution_count": 1,
     "metadata": {},
     "output_type": "execute_result"
    }
   ],
   "source": [
    "from typing import List\n",
    "class Solution:\n",
    "    def maxSubArray(self, nums: List[int]) -> int:\n",
    "        if not nums:\n",
    "            return 0\n",
    "        max_ending_here=[nums[0]]\n",
    "        max_temp=nums[0]\n",
    "        for i in range(1,len(nums)):\n",
    "            max_ending_here.append(max(max_ending_here[-1]+nums[i],nums[i]))\n",
    "            max_temp=max(max_temp,max_ending_here[-1])\n",
    "        return max_temp\n",
    "nums=[-2,1,-3,4,-1,2,1,-5,4]\n",
    "s=Solution()\n",
    "s.maxSubArray(nums)"
   ]
  },
  {
   "cell_type": "markdown",
   "metadata": {},
   "source": [
    "## 121. 买卖股票的最佳时机（简单）\n",
    "[题目链接](https://leetcode-cn.com/problems/best-time-to-buy-and-sell-stock/)\n",
    "\n",
    "本题与上一题一样，基于子序的遍历，思考状态转移的过程（在第i天卖出的最大利润与第i-1天卖出的最大利润之间的关系）"
   ]
  },
  {
   "cell_type": "code",
   "execution_count": 7,
   "metadata": {},
   "outputs": [
    {
     "data": {
      "text/plain": [
       "5"
      ]
     },
     "execution_count": 7,
     "metadata": {},
     "output_type": "execute_result"
    }
   ],
   "source": [
    "from typing import List\n",
    "class Solution:\n",
    "    def maxProfit(self, prices: List[int]) -> int:\n",
    "        if not prices:\n",
    "            return 0\n",
    "        max_profit_here=[0]\n",
    "        max_profit_temp=0\n",
    "        for i in range(1,len(prices)):\n",
    "            max_profit_here.append(max(max_profit_here[i-1]-prices[i-1]+prices[i],0))\n",
    "            max_profit_temp=max(max_profit_temp,max_profit_here[i])\n",
    "        return max_profit_temp\n",
    "nums=[7,1,5,3,6,4]\n",
    "s=Solution()\n",
    "s.maxProfit(nums)"
   ]
  }
 ],
 "metadata": {
  "kernelspec": {
   "display_name": "Python 3",
   "language": "python",
   "name": "python3"
  },
  "language_info": {
   "codemirror_mode": {
    "name": "ipython",
    "version": 3
   },
   "file_extension": ".py",
   "mimetype": "text/x-python",
   "name": "python",
   "nbconvert_exporter": "python",
   "pygments_lexer": "ipython3",
   "version": "3.6.10"
  }
 },
 "nbformat": 4,
 "nbformat_minor": 4
}
