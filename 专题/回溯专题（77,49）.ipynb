{
 "cells": [
  {
   "cell_type": "markdown",
   "metadata": {},
   "source": [
    "# 回溯专题"
   ]
  },
  {
   "cell_type": "markdown",
   "metadata": {},
   "source": [
    "## 77. 组合(中等)\n",
    "\n",
    " ![1](http://qn.tonysongwb.top/img/20200910003604.png)\n",
    "\n",
    "* 本题关键在于choice的调整策略\n",
    "\n",
    "    排列组合类题目可以通过不同的choice调整策略获得不同的结果"
   ]
  },
  {
   "cell_type": "code",
   "execution_count": 1,
   "metadata": {},
   "outputs": [],
   "source": [
    "from typing import List\n",
    "class Solution:\n",
    "    def combine(self, n: int, k: int) -> List[List[int]]:\n",
    "        ans=[]\n",
    "        def backtrack(path,choice):\n",
    "            if len(path)==k:\n",
    "                ans.append(path[:])\n",
    "                return\n",
    "            for i in range(len(choice)):\n",
    "                \n",
    "                temp_num=choice[i]\n",
    "                path.append(temp_num)\n",
    "                backtrack(path,choice[i+1:])  # 下次选择只能选比这次选择大的数，即不允许逆序\n",
    "                path.pop()\n",
    "        backtrack([],list(range(1,n+1)))\n",
    "        return ans"
   ]
  },
  {
   "cell_type": "markdown",
   "metadata": {},
   "source": [
    "## 39. 组合总和(中等)\n",
    "![](http://qn.tonysongwb.top/img/20200910003040.png)\n",
    "* 本题元素可以重复选择，但仍不允许出现相同的组合，所以choice的调整策略为`choice[i:]`"
   ]
  },
  {
   "cell_type": "code",
   "execution_count": null,
   "metadata": {},
   "outputs": [],
   "source": [
    "from typing import List\n",
    "class Solution:\n",
    "    def combinationSum(self, candidates: List[int], target: int) -> List[List[int]]:\n",
    "        if not candidates:\n",
    "            return []\n",
    "        ans=[]\n",
    "        def backtrack(tempPick,tempSum,choice):\n",
    "            if tempSum==target:\n",
    "                ans.append(tempPick[:])\n",
    "                return\n",
    "            if tempSum>target:\n",
    "                return\n",
    "            for i in range(len(choice)):\n",
    "                tempPick.append(choice[i])\n",
    "                tempSum+=choice[i]\n",
    "                backtrack(tempPick,tempSum,choice[i:])\n",
    "                tempPick.pop()\n",
    "                tempSum-=choice[i]\n",
    "        backtrack([],0,candidates)\n",
    "        return ans\n",
    "s=Solution()\n",
    "candidates=[2,3,6,7]\n",
    "target=7\n",
    "s.combinationSum(candidates,target)"
   ]
  },
  {
   "cell_type": "markdown",
   "metadata": {},
   "source": [
    "## 40. 组合总和 II(中等)\n",
    "![](http://qn.tonysongwb.top/img/20200910004222.png)"
   ]
  },
  {
   "cell_type": "code",
   "execution_count": null,
   "metadata": {},
   "outputs": [],
   "source": [
    "from typing import List\n",
    "class Solution:\n",
    "    def combinationSum2(self, candidates: List[int], target: int) -> List[List[int]]:\n",
    "        if not candidates:\n",
    "            return []\n",
    "        ans=[]\n",
    "        def backtrack(tempPick,tempSum,flag):\n",
    "            print(tempPick,tempSum)\n",
    "            if tempSum==target:\n",
    "                ans.append(tempPick[:])\n",
    "                return\n",
    "            if tempSum>target:\n",
    "                return \n",
    "            for i,v in enumerate(candidates):\n",
    "                if flag[i]:\n",
    "                    continue\n",
    "                flag[i]=True\n",
    "                tempPick.append(v)\n",
    "                tempSum+=v\n",
    "                backtrack(tempPick,tempSum,flag)\n",
    "                flag[i]=False\n",
    "                tempPick.pop()\n",
    "                tempSum-=v\n",
    "        backtrack([],0,[False for i in range(len(candidates))])\n",
    "        return ans\n",
    "candidates=[10,1,2,7,6,1,5]\n",
    "target=8\n",
    "s=Solution()\n",
    "s.combinationSum2(candidates,target)"
   ]
  },
  {
   "cell_type": "markdown",
   "metadata": {},
   "source": [
    "## 216. 组合总和 III(中等)\n",
    " ![](http://qn.tonysongwb.top/img/20200911204435.png)\n",
    " * 细节见注释"
   ]
  },
  {
   "cell_type": "code",
   "execution_count": null,
   "metadata": {},
   "outputs": [],
   "source": [
    "class Solution:\n",
    "    def combinationSum3(self, k: int, n: int) -> List[List[int]]:\n",
    "        ans=[]\n",
    "        def backtrack(temp_pick,temp_sum,choices):\n",
    "            if temp_sum==n and len(temp_pick)==k:  # 只能选三个数，有额外的结束条件\n",
    "                ans.append(temp_pick[:])\n",
    "                return\n",
    "            if temp_sum>n or len(temp_pick)>=k:  # 由于只能选三个数，可以剪枝\n",
    "                return\n",
    "            for i in range(len(choices)):\n",
    "                temp_pick.append(choices[i])\n",
    "                temp_sum+=choices[i]\n",
    "                backtrack(temp_pick,temp_sum,choices[i+1:])\n",
    "                temp_pick.pop()\n",
    "                temp_sum-=choices[i]\n",
    "        backtrack([],0,list(range(1,10)))\n",
    "        return ans"
   ]
  }
 ],
 "metadata": {
  "kernelspec": {
   "display_name": "Python 3",
   "language": "python",
   "name": "python3"
  },
  "language_info": {
   "codemirror_mode": {
    "name": "ipython",
    "version": 3
   },
   "file_extension": ".py",
   "mimetype": "text/x-python",
   "name": "python",
   "nbconvert_exporter": "python",
   "pygments_lexer": "ipython3",
   "version": "3.6.12"
  }
 },
 "nbformat": 4,
 "nbformat_minor": 4
}
