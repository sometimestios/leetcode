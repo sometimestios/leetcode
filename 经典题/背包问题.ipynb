{
 "cells": [
  {
   "cell_type": "code",
   "execution_count": null,
   "metadata": {},
   "outputs": [],
   "source": [
    "N=3\n",
    "W=4\n",
    "wt=[2,1,3]\n",
    "val=[4,2,3]\n",
    "def dynamic(N,W,wt,val):\n",
    "    if wt[0]<=1:\n",
    "        dp=[[wt[0]]]\n",
    "    else:\n",
    "        dp=[[0]]\n",
    "    for i in range(N):\n",
    "        for j in range(W):\n",
    "            if i==j==0:\n",
    "                continue\n",
    "            dp[i][j]="
   ]
  }
 ],
 "metadata": {
  "kernelspec": {
   "display_name": "Python 3",
   "language": "python",
   "name": "python3"
  },
  "language_info": {
   "codemirror_mode": {
    "name": "ipython",
    "version": 3
   },
   "file_extension": ".py",
   "mimetype": "text/x-python",
   "name": "python",
   "nbconvert_exporter": "python",
   "pygments_lexer": "ipython3",
   "version": "3.6.12"
  }
 },
 "nbformat": 4,
 "nbformat_minor": 4
}
