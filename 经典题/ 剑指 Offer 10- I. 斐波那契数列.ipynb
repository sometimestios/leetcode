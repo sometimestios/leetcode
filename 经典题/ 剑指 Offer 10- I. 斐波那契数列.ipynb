{
 "cells": [
  {
   "cell_type": "markdown",
   "metadata": {},
   "source": [
    "# 剑指 Offer 10- I. 斐波那契数列(简单)"
   ]
  },
  {
   "cell_type": "markdown",
   "metadata": {},
   "source": [
    "## 递归+记忆哈希表\n",
    "本质上仍是递归，但用哈希表记忆已经计算过的结果代替重复的计算过程；也可以用数组来记忆。"
   ]
  },
  {
   "cell_type": "code",
   "execution_count": null,
   "metadata": {},
   "outputs": [],
   "source": [
    "class Solution:\n",
    "    dic={0:0,1:1}\n",
    "    def fib(self, n: int) -> int:\n",
    "        if n in self.dic:\n",
    "            return self.dic[n]\n",
    "        else:\n",
    "            self.dic[n]=(self.fib(n-1)+self.fib(n-2))%1000000007\n",
    "            return self.dic[n]"
   ]
  },
  {
   "cell_type": "markdown",
   "metadata": {},
   "source": [
    "## 动态规划-递归(自底向上)\n",
    "经典的动态规划是用数组存储计算的结果，这里可以优化为两个变量存储f(n)和f(n-1)的值"
   ]
  },
  {
   "cell_type": "code",
   "execution_count": null,
   "metadata": {},
   "outputs": [],
   "source": [
    "class Solution:\n",
    "    def fib(self, n: int) -> int:\n",
    "        if n <2:\n",
    "            return n\n",
    "        temp_a=0\n",
    "        temp_b=1\n",
    "        for i in range(2,n+1):\n",
    "            temp_a,temp_b=temp_b,(temp_a+temp_b)%1000000007\n",
    "        return temp_b"
   ]
  }
 ],
 "metadata": {
  "kernelspec": {
   "display_name": "Python 3",
   "language": "python",
   "name": "python3"
  },
  "language_info": {
   "codemirror_mode": {
    "name": "ipython",
    "version": 3
   },
   "file_extension": ".py",
   "mimetype": "text/x-python",
   "name": "python",
   "nbconvert_exporter": "python",
   "pygments_lexer": "ipython3",
   "version": "3.6.12"
  }
 },
 "nbformat": 4,
 "nbformat_minor": 4
}
