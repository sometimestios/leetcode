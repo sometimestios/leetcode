{
 "cells": [
  {
   "cell_type": "code",
   "execution_count": 2,
   "metadata": {},
   "outputs": [
    {
     "data": {
      "text/plain": [
       "4"
      ]
     },
     "execution_count": 2,
     "metadata": {},
     "output_type": "execute_result"
    }
   ],
   "source": [
    "class Solution:\n",
    "    def calculate(self, s: str) -> int:\n",
    "        x=1\n",
    "        y=0\n",
    "        for i in s:\n",
    "            if i=='A':\n",
    "                x=2*x+y\n",
    "            else:\n",
    "                y=2*y+x\n",
    "        return x+y\n",
    "s='AB'\n",
    "so=Solution()\n",
    "so.calculate(s)"
   ]
  },
  {
   "cell_type": "code",
   "execution_count": null,
   "metadata": {},
   "outputs": [],
   "source": [
    "from typing import List\n",
    "class Solution:\n",
    "    def breakfastNumber(self, staple: List[int], drinks: List[int], x: int) -> int:\n",
    "        ans=0\n",
    "        for i in staple:\n",
    "            for j in drinks:\n",
    "                if i+j<=x:\n",
    "                    ans+=1\n",
    "        return ans%1000000007\n",
    "staple=[x for x in range(1,10**5,3)]\n",
    "drinks=[x for x in range(2,10**5,5)]\n",
    "x=11**5\n",
    "so=Solution()\n",
    "so.breakfastNumber(staple,drinks,x)"
   ]
  },
  {
   "cell_type": "code",
   "execution_count": 63,
   "metadata": {},
   "outputs": [
    {
     "data": {
      "text/plain": [
       "333343333"
      ]
     },
     "execution_count": 63,
     "metadata": {},
     "output_type": "execute_result"
    }
   ],
   "source": [
    "from typing import List\n",
    "class Solution:\n",
    "    def breakfastNumber(self, staple: List[int], drinks: List[int], x: int) -> int:\n",
    "        ans=0\n",
    "        staple.sort(reverse=True)\n",
    "        drinks.sort()\n",
    "        i=j=0\n",
    "        temp=0\n",
    "        while i<len(staple):\n",
    "            if j==len(drinks) or staple[i]+drinks[j]>x:\n",
    "                ans+=temp\n",
    "                i+=1\n",
    "                continue\n",
    "            if staple[i]+drinks[j]<=x:\n",
    "                \n",
    "                while j<len(drinks):\n",
    "                    if staple[i]+drinks[j]<=x:\n",
    "                        \n",
    "                        j+=1\n",
    "                        temp+=1\n",
    "                        \n",
    "                    else:\n",
    "                        break\n",
    "                ans+=temp\n",
    "                i+=1\n",
    "        return ans%1000000007\n",
    "staple=[x for x in range(1,10**5,3)]\n",
    "drinks=[x for x in range(2,10**5,5)]\n",
    "x=11**5\n",
    "so=Solution()\n",
    "so.breakfastNumber(staple,drinks,x)"
   ]
  },
  {
   "cell_type": "code",
   "execution_count": 22,
   "metadata": {},
   "outputs": [
    {
     "data": {
      "text/plain": [
       "[10, 15, 20]"
      ]
     },
     "execution_count": 22,
     "metadata": {},
     "output_type": "execute_result"
    }
   ],
   "source": [
    "class Solution:\n",
    "    def minimumOperations(self, leaves: str) -> int:\n",
    "        \n",
    "      rryrryyrr  \n",
    "leaves = \"rrryyyrryyyrr\""
   ]
  }
 ],
 "metadata": {
  "kernelspec": {
   "display_name": "Python 3",
   "language": "python",
   "name": "python3"
  },
  "language_info": {
   "codemirror_mode": {
    "name": "ipython",
    "version": 3
   },
   "file_extension": ".py",
   "mimetype": "text/x-python",
   "name": "python",
   "nbconvert_exporter": "python",
   "pygments_lexer": "ipython3",
   "version": "3.6.12"
  }
 },
 "nbformat": 4,
 "nbformat_minor": 4
}
