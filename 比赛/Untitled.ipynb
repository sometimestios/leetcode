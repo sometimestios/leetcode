{
 "cells": [
  {
   "cell_type": "code",
   "execution_count": 20,
   "metadata": {},
   "outputs": [
    {
     "data": {
      "text/plain": [
       "0"
      ]
     },
     "execution_count": 20,
     "metadata": {},
     "output_type": "execute_result"
    }
   ],
   "source": [
    "from typing import List\n",
    "class Solution:\n",
    "    def minOperations(self, logs: List[str]) -> int:\n",
    "        step=0\n",
    "        for op in logs:\n",
    "            if op=='../':\n",
    "                if step!=0:\n",
    "                    step-=1\n",
    "            elif op=='./':\n",
    "                pass\n",
    "            else:\n",
    "                step+=1\n",
    "        return step\n",
    "logs=[\"./\",\"../\",\"./\"]\n",
    "s=Solution()\n",
    "s.minOperations(logs)"
   ]
  },
  {
   "cell_type": "code",
   "execution_count": 44,
   "metadata": {},
   "outputs": [
    {
     "data": {
      "text/plain": [
       "-1"
      ]
     },
     "execution_count": 44,
     "metadata": {},
     "output_type": "execute_result"
    }
   ],
   "source": [
    "class Solution:\n",
    "    def minOperationsMaxProfit(self, customers: List[int], boardingCost: int, runningCost: int) -> int:\n",
    "        wait=0\n",
    "        profit=[0]\n",
    "        for c in customers:\n",
    "            wait+=c\n",
    "            if wait>=4:\n",
    "                wait-=4\n",
    "                up=4\n",
    "            else:\n",
    "                wait=0\n",
    "                up=wait\n",
    "            profit.append(profit[-1]+up*boardingCost-runningCost)\n",
    "        while wait:\n",
    "            up=min(4,wait)\n",
    "            wait-=up\n",
    "            profit.append(profit[-1]+up*boardingCost-runningCost)\n",
    "        turn=profit.index(max(profit))\n",
    "        return turn if turn!=0 else -1\n",
    "customers = [3,4,0,5,1]\n",
    "boardingCost = 1\n",
    "runningCost = 92\n",
    "s=Solution()\n",
    "s.minOperationsMaxProfit(customers,boardingCost,runningCost)"
   ]
  },
  {
   "cell_type": "code",
   "execution_count": 25,
   "metadata": {},
   "outputs": [
    {
     "data": {
      "text/plain": [
       "[1, 2, 3, 4]"
      ]
     },
     "execution_count": 25,
     "metadata": {},
     "output_type": "execute_result"
    }
   ],
   "source": [
    "a=[1,2,3]\n",
    "b=a+[4]\n",
    "b"
   ]
  }
 ],
 "metadata": {
  "kernelspec": {
   "display_name": "Python 3",
   "language": "python",
   "name": "python3"
  },
  "language_info": {
   "codemirror_mode": {
    "name": "ipython",
    "version": 3
   },
   "file_extension": ".py",
   "mimetype": "text/x-python",
   "name": "python",
   "nbconvert_exporter": "python",
   "pygments_lexer": "ipython3",
   "version": "3.6.12"
  }
 },
 "nbformat": 4,
 "nbformat_minor": 4
}
