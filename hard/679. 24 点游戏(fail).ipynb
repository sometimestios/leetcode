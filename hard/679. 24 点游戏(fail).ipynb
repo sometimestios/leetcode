{
 "cells": [
  {
   "cell_type": "markdown",
   "metadata": {},
   "source": [
    "# 失败总结：\n",
    "hard还是难啊~~\n",
    "1. 实数除法用精度解决\n",
    "2. 全排列的暴力方法用循环嵌套加i!=j解决，优化方法可用递归（递归函数返回的是当前排列的下一个排列），见[详解全排列](https://www.cnblogs.com/sooner/p/3264882.html)"
   ]
  },
  {
   "cell_type": "code",
   "execution_count": 15,
   "metadata": {},
   "outputs": [],
   "source": [
    "class Fraction:\n",
    "    def __init__(self, a, b):\n",
    "        self.a = a\n",
    "        self.b = b\n",
    "        self.reduction()\n",
    "\n",
    "    def reduction(self):\n",
    "        def get_factor(a, b):\n",
    "            if a > b:\n",
    "                a, b = b, a\n",
    "            if a==0:\n",
    "                return 1\n",
    "            r = b % a\n",
    "            if r == 0:\n",
    "                return a\n",
    "            else:\n",
    "                return get_factor(a, r)\n",
    "\n",
    "        factor = get_factor(abs(self.a), abs(self.b))\n",
    "        self.a = self.a / factor\n",
    "        self.b = self.b / factor\n",
    "\n",
    "    def print_fr(self):\n",
    "        print(self.a, self.b, sep='/')\n",
    "\n",
    "\n",
    "class Operation:\n",
    "    def __init__(self, type):\n",
    "        self.type = type\n",
    "\n",
    "    def cal(self,A,B):\n",
    "        dic = {'+': self.add, '-': self.minus, '*': self.muti, '/': self.devide}\n",
    "        return dic[self.type](A,B)\n",
    "\n",
    "    def add(self, A, B):\n",
    "        A.a = A.a * B.b\n",
    "        B.a = B.a * A.b\n",
    "        A.b = B.b = A.b * B.b\n",
    "        return Fraction(A.a + B.a, A.b)\n",
    "\n",
    "    def minus(self, A, B):\n",
    "        A.a = A.a * B.b\n",
    "        B.a = B.a * A.b\n",
    "        A.b = B.b = A.b * B.b\n",
    "        return Fraction(A.a - B.a, A.b)\n",
    "\n",
    "    def muti(self, A, B):\n",
    "        return Fraction(A.a * B.a, A.b * B.b)\n",
    "\n",
    "    def devide(self, A, B):\n",
    "        return Fraction(A.a * B.b, A.b * B.a)\n",
    "\n",
    "\n",
    "class ExpressionStack:\n",
    "    def __init__(self, expression):\n",
    "        self.expression = expression\n",
    "    def calculate(self):\n",
    "        res = []\n",
    "        for i in self.expression:\n",
    "            if isinstance(i,Fraction):\n",
    "\n",
    "                res.append(i)\n",
    "            else:\n",
    "                if len(res)<2:\n",
    "                    return False\n",
    "                else:\n",
    "                    ans=Operation(i).cal(res.pop(-2),res.pop(-1))\n",
    "                    res.append(ans)\n",
    "\n",
    "        return res[-1]\n",
    "nums=[4, 1, 8, 7]\n",
    "def find_res():\n",
    "    temp_stack=[]\n",
    "    for i in nums:\n",
    "         temp_stack.append(i)\n",
    "expression_list = [Fraction(4,1), Fraction(2,1),'+', Fraction(8,1), '-', Fraction(7,1),'*','-']\n",
    "e=ExpressionStack(expression_list)\n",
    "r=e.calculate()\n"
   ]
  }
 ],
 "metadata": {
  "kernelspec": {
   "display_name": "Python 3",
   "language": "python",
   "name": "python3"
  },
  "language_info": {
   "codemirror_mode": {
    "name": "ipython",
    "version": 3
   },
   "file_extension": ".py",
   "mimetype": "text/x-python",
   "name": "python",
   "nbconvert_exporter": "python",
   "pygments_lexer": "ipython3",
   "version": "3.6.10"
  },
  "pycharm": {
   "stem_cell": {
    "cell_type": "raw",
    "metadata": {
     "collapsed": false
    },
    "source": []
   }
  }
 },
 "nbformat": 4,
 "nbformat_minor": 1
}
