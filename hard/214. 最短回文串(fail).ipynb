{
 "cells": [
  {
   "cell_type": "markdown",
   "metadata": {},
   "source": [
    "# 我的方法-暴力\n",
    "时间复杂度为O(n^2)，可以像[详细通俗的思路分析，多解法](https://leetcode-cn.com/problems/shortest-palindrome/solution/xiang-xi-tong-su-de-si-lu-fen-xi-duo-jie-fa-by--44/)中的解法四一样,比较字符串的哈希值，优化时间复杂度。"
   ]
  },
  {
   "cell_type": "code",
   "execution_count": null,
   "metadata": {},
   "outputs": [],
   "source": [
    "class Solution:\n",
    "    def shortestPalindrome(self, s: str) -> str:\n",
    "        front_s=''\n",
    "        for i in range(len(s)-1,-1,-1):\n",
    "            tmp=front_s+s\n",
    "            # print(i,tmp)\n",
    "            if tmp[::-1]==tmp:\n",
    "                return tmp\n",
    "            front_s+=s[i]\n",
    "s=Solution()\n",
    "s.shortestPalindrome('aaacecaaa')"
   ]
  },
  {
   "cell_type": "markdown",
   "metadata": {},
   "source": [
    "# 没学会的方法\n",
    "## 马拉车算法\n",
    "[老司机开车，教会女朋友什么是「马拉车算法」](https://www.cxyxiaowu.com/2665.html)\n",
    "## KMP算法\n",
    "..."
   ]
  }
 ],
 "metadata": {
  "kernelspec": {
   "display_name": "Python 3",
   "language": "python",
   "name": "python3"
  },
  "language_info": {
   "codemirror_mode": {
    "name": "ipython",
    "version": 3
   },
   "file_extension": ".py",
   "mimetype": "text/x-python",
   "name": "python",
   "nbconvert_exporter": "python",
   "pygments_lexer": "ipython3",
   "version": "3.6.10"
  }
 },
 "nbformat": 4,
 "nbformat_minor": 4
}
